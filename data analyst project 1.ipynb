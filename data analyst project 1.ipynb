{
 "cells": [
  {
   "cell_type": "markdown",
   "metadata": {},
   "source": [
    "Importing the required libraries"
   ]
  },
  {
   "cell_type": "code",
   "execution_count": 1,
   "metadata": {},
   "outputs": [],
   "source": [
    "#importing required libraries\n",
    "import pandas as pd\n",
    "import numpy as np\n",
    "import matplotlib.pyplot as plt\n",
    "import seaborn as sns "
   ]
  },
  {
   "cell_type": "code",
   "execution_count": 2,
   "metadata": {},
   "outputs": [],
   "source": [
    "# filtring out warning\n",
    "import warnings\n",
    "warnings.filterwarnings('ignore')"
   ]
  },
  {
   "cell_type": "markdown",
   "metadata": {},
   "source": [
    "Importing dataset"
   ]
  },
  {
   "cell_type": "code",
   "execution_count": 3,
   "metadata": {},
   "outputs": [],
   "source": [
    "#import data \n",
    "df1 = pd.read_csv(r'C:\\Users\\Lenovo\\Downloads\\leads_basic_details.csv')\n",
    "df2 = pd.read_csv(r'C:\\Users\\Lenovo\\Downloads\\leads_demo_watched_details.csv')\n",
    "df3 = pd.read_csv(r'C:\\Users\\Lenovo\\Downloads\\leads_interaction_details.csv')\n",
    "df4 = pd.read_csv(r'C:\\Users\\Lenovo\\Downloads\\leads_reasons_for_no_interest.csv')\n",
    "df5 = pd.read_csv(r'C:\\Users\\Lenovo\\Downloads\\sales_managers_assigned_leads_details (1).csv')\n"
   ]
  },
  {
   "cell_type": "markdown",
   "metadata": {},
   "source": [
    "Data Inspection"
   ]
  },
  {
   "cell_type": "code",
   "execution_count": 4,
   "metadata": {},
   "outputs": [
    {
     "name": "stdout",
     "output_type": "stream",
     "text": [
      "*** SHAPE OF DATASETS ***\n",
      "leads_basic_details:  (360, 7)\n",
      "leads_demo_watched_details (194, 4)\n",
      "leads_interaction_details (2192, 6)\n",
      "leads_reasons_for_no_interest (294, 4)\n",
      "sales_managers_assigned_leads_details (360, 5)\n"
     ]
    }
   ],
   "source": [
    "##shape of dataset\n",
    "from numpy import shape\n",
    "print('*** SHAPE OF DATASETS ***')\n",
    "print('leads_basic_details: ', df1.shape)\n",
    "print('leads_demo_watched_details', df2.shape)\n",
    "print('leads_interaction_details', df3.shape)\n",
    "print('leads_reasons_for_no_interest', df4.shape)\n",
    "print('sales_managers_assigned_leads_details', df5.shape)"
   ]
  },
  {
   "cell_type": "code",
   "execution_count": 5,
   "metadata": {},
   "outputs": [
    {
     "name": "stdout",
     "output_type": "stream",
     "text": [
      "***DUBLICATES COUNTS***\n",
      "leads_basic_details 0\n",
      "leads_demo_watched_details 0\n",
      "leads_interaction_details 438\n",
      "leads_reasons_for_no_interest 0\n",
      "sales_managers_assigned_leads_details (1) 0\n"
     ]
    }
   ],
   "source": [
    "print('***DUBLICATES COUNTS***')\n",
    "print('leads_basic_details',df1.duplicated().sum())\n",
    "print('leads_demo_watched_details',df2.duplicated().sum())\n",
    "print('leads_interaction_details', df3.duplicated().sum())\n",
    "print('leads_reasons_for_no_interest', df4.duplicated().sum())\n",
    "print('sales_managers_assigned_leads_details (1)',df5.duplicated().sum())"
   ]
  },
  {
   "cell_type": "code",
   "execution_count": 6,
   "metadata": {},
   "outputs": [
    {
     "name": "stdout",
     "output_type": "stream",
     "text": [
      "leads_interaction_details:  0\n"
     ]
    }
   ],
   "source": [
    "#There are duplicate records in leads_interaction_details dataset. \n",
    "# We need to drop these records before using the data for analysis.\n",
    "df3.drop_duplicates(inplace=True)\n",
    "print('leads_interaction_details: ', df3.duplicated().sum())"
   ]
  },
  {
   "cell_type": "code",
   "execution_count": 7,
   "metadata": {},
   "outputs": [
    {
     "name": "stdout",
     "output_type": "stream",
     "text": [
      "***Null_value_count***\n",
      "leads_basic_details lead_id              0\n",
      "age                  0\n",
      "gender               0\n",
      "current_city         0\n",
      "current_education    0\n",
      "parent_occupation    0\n",
      "lead_gen_source      0\n",
      "dtype: int64\n",
      "leads_demo_watched_details lead_id               0\n",
      "demo_watched_date     0\n",
      "language              0\n",
      "watched_percentage    0\n",
      "dtype: int64\n",
      "leads_interaction_details jnr_sm_id         0\n",
      "lead_id           0\n",
      "lead_stage        0\n",
      "call_done_date    0\n",
      "call_status       0\n",
      "call_reason       0\n",
      "dtype: int64\n",
      "leads_reasons_for_no_interest lead_id                                     0\n",
      "reasons_for_not_interested_in_demo        130\n",
      "reasons_for_not_interested_to_consider    215\n",
      "reasons_for_not_interested_to_convert     243\n",
      "dtype: int64\n",
      "sales_managers_assigned_leads_details (1) snr_sm_id        0\n",
      "jnr_sm_id        0\n",
      "assigned_date    0\n",
      "cycle            0\n",
      "lead_id          0\n",
      "dtype: int64\n"
     ]
    }
   ],
   "source": [
    "print('***Null_value_count***')\n",
    "print('leads_basic_details',df1.isnull().sum())\n",
    "print('leads_demo_watched_details',df2.isnull().sum())\n",
    "print('leads_interaction_details',df3.isnull().sum())\n",
    "print('leads_reasons_for_no_interest',df4.isnull().sum())\n",
    "print('sales_managers_assigned_leads_details (1)',df5.isnull().sum())"
   ]
  },
  {
   "cell_type": "markdown",
   "metadata": {},
   "source": [
    "DATA CLEANING AND HANDLING"
   ]
  },
  {
   "cell_type": "markdown",
   "metadata": {},
   "source": [
    "Dataframe df1"
   ]
  },
  {
   "cell_type": "code",
   "execution_count": 8,
   "metadata": {},
   "outputs": [
    {
     "name": "stdout",
     "output_type": "stream",
     "text": [
      "<class 'pandas.core.frame.DataFrame'>\n",
      "RangeIndex: 360 entries, 0 to 359\n",
      "Data columns (total 7 columns):\n",
      " #   Column             Non-Null Count  Dtype \n",
      "---  ------             --------------  ----- \n",
      " 0   lead_id            360 non-null    object\n",
      " 1   age                360 non-null    int64 \n",
      " 2   gender             360 non-null    object\n",
      " 3   current_city       360 non-null    object\n",
      " 4   current_education  360 non-null    object\n",
      " 5   parent_occupation  360 non-null    object\n",
      " 6   lead_gen_source    360 non-null    object\n",
      "dtypes: int64(1), object(6)\n",
      "memory usage: 19.8+ KB\n"
     ]
    }
   ],
   "source": [
    "df1.info()"
   ]
  },
  {
   "cell_type": "code",
   "execution_count": 9,
   "metadata": {},
   "outputs": [
    {
     "data": {
      "text/html": [
       "<div>\n",
       "<style scoped>\n",
       "    .dataframe tbody tr th:only-of-type {\n",
       "        vertical-align: middle;\n",
       "    }\n",
       "\n",
       "    .dataframe tbody tr th {\n",
       "        vertical-align: top;\n",
       "    }\n",
       "\n",
       "    .dataframe thead th {\n",
       "        text-align: right;\n",
       "    }\n",
       "</style>\n",
       "<table border=\"1\" class=\"dataframe\">\n",
       "  <thead>\n",
       "    <tr style=\"text-align: right;\">\n",
       "      <th></th>\n",
       "      <th>age</th>\n",
       "    </tr>\n",
       "  </thead>\n",
       "  <tbody>\n",
       "    <tr>\n",
       "      <th>count</th>\n",
       "      <td>360.000000</td>\n",
       "    </tr>\n",
       "    <tr>\n",
       "      <th>mean</th>\n",
       "      <td>21.561111</td>\n",
       "    </tr>\n",
       "    <tr>\n",
       "      <th>std</th>\n",
       "      <td>11.555444</td>\n",
       "    </tr>\n",
       "    <tr>\n",
       "      <th>min</th>\n",
       "      <td>16.000000</td>\n",
       "    </tr>\n",
       "    <tr>\n",
       "      <th>25%</th>\n",
       "      <td>18.000000</td>\n",
       "    </tr>\n",
       "    <tr>\n",
       "      <th>50%</th>\n",
       "      <td>21.000000</td>\n",
       "    </tr>\n",
       "    <tr>\n",
       "      <th>75%</th>\n",
       "      <td>24.000000</td>\n",
       "    </tr>\n",
       "    <tr>\n",
       "      <th>max</th>\n",
       "      <td>211.000000</td>\n",
       "    </tr>\n",
       "  </tbody>\n",
       "</table>\n",
       "</div>"
      ],
      "text/plain": [
       "              age\n",
       "count  360.000000\n",
       "mean    21.561111\n",
       "std     11.555444\n",
       "min     16.000000\n",
       "25%     18.000000\n",
       "50%     21.000000\n",
       "75%     24.000000\n",
       "max    211.000000"
      ]
     },
     "execution_count": 9,
     "metadata": {},
     "output_type": "execute_result"
    }
   ],
   "source": [
    "df1.describe()"
   ]
  },
  {
   "cell_type": "markdown",
   "metadata": {},
   "source": [
    "* I observe there is huge gap between the 75% value and the max value. 211 years of age is an unrealistic number and appears to be an outlier. Let us use IQR mathed it and verify "
   ]
  },
  {
   "cell_type": "code",
   "execution_count": 10,
   "metadata": {},
   "outputs": [
    {
     "data": {
      "text/plain": [
       "(18.0, 24.0)"
      ]
     },
     "execution_count": 10,
     "metadata": {},
     "output_type": "execute_result"
    }
   ],
   "source": [
    "Q1 = df1.age.quantile(0.25)\n",
    "Q3 = df1.age.quantile(0.75)\n",
    "Q1,Q3"
   ]
  },
  {
   "cell_type": "code",
   "execution_count": 11,
   "metadata": {},
   "outputs": [
    {
     "data": {
      "text/plain": [
       "6.0"
      ]
     },
     "execution_count": 11,
     "metadata": {},
     "output_type": "execute_result"
    }
   ],
   "source": [
    "IQR = Q3 - Q1\n",
    "IQR"
   ]
  },
  {
   "cell_type": "code",
   "execution_count": 12,
   "metadata": {},
   "outputs": [
    {
     "data": {
      "text/plain": [
       "(9.0, 33.0)"
      ]
     },
     "execution_count": 12,
     "metadata": {},
     "output_type": "execute_result"
    }
   ],
   "source": [
    "Lower_Limit = Q1 - 1.5*IQR\n",
    "Upper_Limit = Q3 + 1.5*IQR\n",
    "Lower_Limit , Upper_Limit"
   ]
  },
  {
   "cell_type": "code",
   "execution_count": 13,
   "metadata": {},
   "outputs": [],
   "source": [
    "df1_outlier = df1[(df1.age<Lower_Limit)|(df1.age>Upper_Limit)]"
   ]
  },
  {
   "cell_type": "code",
   "execution_count": 14,
   "metadata": {},
   "outputs": [],
   "source": [
    "# Removing the outliers for df1 dataset\n",
    "df1 = df1.drop([df1_outlier.index[0] , df1_outlier.index[1]])"
   ]
  },
  {
   "cell_type": "code",
   "execution_count": 15,
   "metadata": {},
   "outputs": [
    {
     "data": {
      "image/png": "[encoded data removed]",
      "text/plain": [
       "<Figure size 1300x500 with 1 Axes>"
      ]
     },
     "metadata": {},
     "output_type": "display_data"
    }
   ],
   "source": [
    "# Re-plotting age distribution after handling the outliers\n",
    "plt.figure(figsize=(13,5))\n",
    "plt.suptitle(\"Distribution of age\", fontsize= 25, fontweight = 5, color = 'Black')\n",
    "ticks = np.arange(0,30,1)\n",
    "label = [\"{}\".format(i) for i in ticks]\n",
    "plt.yticks(ticks,label)\n",
    "sns.boxplot(y=df1.age)\n",
    "plt.show()"
   ]
  },
  {
   "cell_type": "code",
   "execution_count": 16,
   "metadata": {},
   "outputs": [
    {
     "data": {
      "text/html": [
       "<div>\n",
       "<style scoped>\n",
       "    .dataframe tbody tr th:only-of-type {\n",
       "        vertical-align: middle;\n",
       "    }\n",
       "\n",
       "    .dataframe tbody tr th {\n",
       "        vertical-align: top;\n",
       "    }\n",
       "\n",
       "    .dataframe thead th {\n",
       "        text-align: right;\n",
       "    }\n",
       "</style>\n",
       "<table border=\"1\" class=\"dataframe\">\n",
       "  <thead>\n",
       "    <tr style=\"text-align: right;\">\n",
       "      <th></th>\n",
       "      <th>age</th>\n",
       "    </tr>\n",
       "  </thead>\n",
       "  <tbody>\n",
       "    <tr>\n",
       "      <th>count</th>\n",
       "      <td>358.000000</td>\n",
       "    </tr>\n",
       "    <tr>\n",
       "      <th>mean</th>\n",
       "      <td>20.768156</td>\n",
       "    </tr>\n",
       "    <tr>\n",
       "      <th>std</th>\n",
       "      <td>2.852959</td>\n",
       "    </tr>\n",
       "    <tr>\n",
       "      <th>min</th>\n",
       "      <td>16.000000</td>\n",
       "    </tr>\n",
       "    <tr>\n",
       "      <th>25%</th>\n",
       "      <td>18.000000</td>\n",
       "    </tr>\n",
       "    <tr>\n",
       "      <th>50%</th>\n",
       "      <td>21.000000</td>\n",
       "    </tr>\n",
       "    <tr>\n",
       "      <th>75%</th>\n",
       "      <td>24.000000</td>\n",
       "    </tr>\n",
       "    <tr>\n",
       "      <th>max</th>\n",
       "      <td>25.000000</td>\n",
       "    </tr>\n",
       "  </tbody>\n",
       "</table>\n",
       "</div>"
      ],
      "text/plain": [
       "              age\n",
       "count  358.000000\n",
       "mean    20.768156\n",
       "std      2.852959\n",
       "min     16.000000\n",
       "25%     18.000000\n",
       "50%     21.000000\n",
       "75%     24.000000\n",
       "max     25.000000"
      ]
     },
     "execution_count": 16,
     "metadata": {},
     "output_type": "execute_result"
    }
   ],
   "source": [
    "df1.describe()"
   ]
  },
  {
   "cell_type": "markdown",
   "metadata": {},
   "source": [
    "* Yip...outliers are no longer present in df1 data.\n",
    "* Majority of the students are aged between 18 and 24 years."
   ]
  },
  {
   "cell_type": "code",
   "execution_count": 17,
   "metadata": {},
   "outputs": [
    {
     "data": {
      "text/plain": [
       "FEMALE    198\n",
       "MALE      160\n",
       "Name: gender, dtype: int64"
      ]
     },
     "execution_count": 17,
     "metadata": {},
     "output_type": "execute_result"
    }
   ],
   "source": [
    "df1.gender.value_counts()"
   ]
  },
  {
   "cell_type": "code",
   "execution_count": 18,
   "metadata": {},
   "outputs": [
    {
     "data": {
      "text/plain": [
       "Index(['lead_id', 'age', 'gender', 'current_city', 'current_education',\n",
       "       'parent_occupation', 'lead_gen_source'],\n",
       "      dtype='object')"
      ]
     },
     "execution_count": 18,
     "metadata": {},
     "output_type": "execute_result"
    }
   ],
   "source": [
    "df1.columns"
   ]
  },
  {
   "cell_type": "code",
   "execution_count": 19,
   "metadata": {},
   "outputs": [
    {
     "data": {
      "text/plain": [
       "B.Tech                    139\n",
       "Looking for Job           117\n",
       "Degree                     42\n",
       "Intermediate               40\n",
       "Intermediate Completed     12\n",
       "10th Completed              8\n",
       "Name: current_education, dtype: int64"
      ]
     },
     "execution_count": 19,
     "metadata": {},
     "output_type": "execute_result"
    }
   ],
   "source": [
    "df1.current_education.value_counts()"
   ]
  },
  {
   "cell_type": "markdown",
   "metadata": {},
   "source": [
    " * 'Intermediate' and 'Intermediate Completed' are inferred the same way.\n",
    " * there fore have to rename one of these values to draw more accurate results in our analysis further"
   ]
  },
  {
   "cell_type": "code",
   "execution_count": 20,
   "metadata": {},
   "outputs": [],
   "source": [
    "df1['current_education'].replace({'Intermediate Completed':'Intermediate'}, inplace= True) "
   ]
  },
  {
   "cell_type": "code",
   "execution_count": 21,
   "metadata": {},
   "outputs": [
    {
     "data": {
      "text/plain": [
       "B.Tech             139\n",
       "Looking for Job    117\n",
       "Intermediate        52\n",
       "Degree              42\n",
       "10th Completed       8\n",
       "Name: current_education, dtype: int64"
      ]
     },
     "execution_count": 21,
     "metadata": {},
     "output_type": "execute_result"
    }
   ],
   "source": [
    "df1.current_education.value_counts()"
   ]
  },
  {
   "cell_type": "markdown",
   "metadata": {},
   "source": [
    "Dataframe df2"
   ]
  },
  {
   "cell_type": "code",
   "execution_count": 22,
   "metadata": {},
   "outputs": [
    {
     "name": "stdout",
     "output_type": "stream",
     "text": [
      "<class 'pandas.core.frame.DataFrame'>\n",
      "RangeIndex: 194 entries, 0 to 193\n",
      "Data columns (total 4 columns):\n",
      " #   Column              Non-Null Count  Dtype \n",
      "---  ------              --------------  ----- \n",
      " 0   lead_id             194 non-null    object\n",
      " 1   demo_watched_date   194 non-null    object\n",
      " 2   language            194 non-null    object\n",
      " 3   watched_percentage  194 non-null    int64 \n",
      "dtypes: int64(1), object(3)\n",
      "memory usage: 6.2+ KB\n"
     ]
    }
   ],
   "source": [
    "df2.info()"
   ]
  },
  {
   "cell_type": "code",
   "execution_count": 23,
   "metadata": {},
   "outputs": [
    {
     "data": {
      "text/html": [
       "<div>\n",
       "<style scoped>\n",
       "    .dataframe tbody tr th:only-of-type {\n",
       "        vertical-align: middle;\n",
       "    }\n",
       "\n",
       "    .dataframe tbody tr th {\n",
       "        vertical-align: top;\n",
       "    }\n",
       "\n",
       "    .dataframe thead th {\n",
       "        text-align: right;\n",
       "    }\n",
       "</style>\n",
       "<table border=\"1\" class=\"dataframe\">\n",
       "  <thead>\n",
       "    <tr style=\"text-align: right;\">\n",
       "      <th></th>\n",
       "      <th>watched_percentage</th>\n",
       "    </tr>\n",
       "  </thead>\n",
       "  <tbody>\n",
       "    <tr>\n",
       "      <th>count</th>\n",
       "      <td>194.000000</td>\n",
       "    </tr>\n",
       "    <tr>\n",
       "      <th>mean</th>\n",
       "      <td>56.634021</td>\n",
       "    </tr>\n",
       "    <tr>\n",
       "      <th>std</th>\n",
       "      <td>43.555635</td>\n",
       "    </tr>\n",
       "    <tr>\n",
       "      <th>min</th>\n",
       "      <td>2.000000</td>\n",
       "    </tr>\n",
       "    <tr>\n",
       "      <th>25%</th>\n",
       "      <td>35.000000</td>\n",
       "    </tr>\n",
       "    <tr>\n",
       "      <th>50%</th>\n",
       "      <td>55.500000</td>\n",
       "    </tr>\n",
       "    <tr>\n",
       "      <th>75%</th>\n",
       "      <td>75.750000</td>\n",
       "    </tr>\n",
       "    <tr>\n",
       "      <th>max</th>\n",
       "      <td>510.000000</td>\n",
       "    </tr>\n",
       "  </tbody>\n",
       "</table>\n",
       "</div>"
      ],
      "text/plain": [
       "       watched_percentage\n",
       "count          194.000000\n",
       "mean            56.634021\n",
       "std             43.555635\n",
       "min              2.000000\n",
       "25%             35.000000\n",
       "50%             55.500000\n",
       "75%             75.750000\n",
       "max            510.000000"
      ]
     },
     "execution_count": 23,
     "metadata": {},
     "output_type": "execute_result"
    }
   ],
   "source": [
    "df2.describe()"
   ]
  },
  {
   "cell_type": "code",
   "execution_count": 24,
   "metadata": {},
   "outputs": [
    {
     "data": {
      "text/plain": [
       "(2.0, 100.0)"
      ]
     },
     "execution_count": 24,
     "metadata": {},
     "output_type": "execute_result"
    }
   ],
   "source": [
    "min_threshold,max_threshold = df2.watched_percentage.quantile([0.001,0.989])\n",
    "min_threshold, max_threshold"
   ]
  },
  {
   "cell_type": "code",
   "execution_count": 25,
   "metadata": {},
   "outputs": [
    {
     "data": {
      "text/html": [
       "<div>\n",
       "<style scoped>\n",
       "    .dataframe tbody tr th:only-of-type {\n",
       "        vertical-align: middle;\n",
       "    }\n",
       "\n",
       "    .dataframe tbody tr th {\n",
       "        vertical-align: top;\n",
       "    }\n",
       "\n",
       "    .dataframe thead th {\n",
       "        text-align: right;\n",
       "    }\n",
       "</style>\n",
       "<table border=\"1\" class=\"dataframe\">\n",
       "  <thead>\n",
       "    <tr style=\"text-align: right;\">\n",
       "      <th></th>\n",
       "      <th>lead_id</th>\n",
       "      <th>demo_watched_date</th>\n",
       "      <th>language</th>\n",
       "      <th>watched_percentage</th>\n",
       "    </tr>\n",
       "  </thead>\n",
       "  <tbody>\n",
       "  </tbody>\n",
       "</table>\n",
       "</div>"
      ],
      "text/plain": [
       "Empty DataFrame\n",
       "Columns: [lead_id, demo_watched_date, language, watched_percentage]\n",
       "Index: []"
      ]
     },
     "execution_count": 25,
     "metadata": {},
     "output_type": "execute_result"
    }
   ],
   "source": [
    "df2[df2.watched_percentage < min_threshold]"
   ]
  },
  {
   "cell_type": "code",
   "execution_count": 26,
   "metadata": {},
   "outputs": [
    {
     "data": {
      "text/html": [
       "<div>\n",
       "<style scoped>\n",
       "    .dataframe tbody tr th:only-of-type {\n",
       "        vertical-align: middle;\n",
       "    }\n",
       "\n",
       "    .dataframe tbody tr th {\n",
       "        vertical-align: top;\n",
       "    }\n",
       "\n",
       "    .dataframe thead th {\n",
       "        text-align: right;\n",
       "    }\n",
       "</style>\n",
       "<table border=\"1\" class=\"dataframe\">\n",
       "  <thead>\n",
       "    <tr style=\"text-align: right;\">\n",
       "      <th></th>\n",
       "      <th>lead_id</th>\n",
       "      <th>demo_watched_date</th>\n",
       "      <th>language</th>\n",
       "      <th>watched_percentage</th>\n",
       "    </tr>\n",
       "  </thead>\n",
       "  <tbody>\n",
       "    <tr>\n",
       "      <th>94</th>\n",
       "      <td>USR1138</td>\n",
       "      <td>2/20/2022</td>\n",
       "      <td>English</td>\n",
       "      <td>510</td>\n",
       "    </tr>\n",
       "    <tr>\n",
       "      <th>133</th>\n",
       "      <td>USR1213</td>\n",
       "      <td>1/20/2022</td>\n",
       "      <td>Telugu</td>\n",
       "      <td>233</td>\n",
       "    </tr>\n",
       "  </tbody>\n",
       "</table>\n",
       "</div>"
      ],
      "text/plain": [
       "     lead_id demo_watched_date language  watched_percentage\n",
       "94   USR1138         2/20/2022  English                 510\n",
       "133  USR1213         1/20/2022   Telugu                 233"
      ]
     },
     "execution_count": 26,
     "metadata": {},
     "output_type": "execute_result"
    }
   ],
   "source": [
    "df2[df2.watched_percentage > max_threshold]"
   ]
  },
  {
   "cell_type": "code",
   "execution_count": 27,
   "metadata": {},
   "outputs": [],
   "source": [
    "df2_outlier = df2[(df2.watched_percentage<min_threshold)|(df2.watched_percentage>max_threshold)]"
   ]
  },
  {
   "cell_type": "code",
   "execution_count": 28,
   "metadata": {},
   "outputs": [
    {
     "data": {
      "text/plain": [
       "(192, 4)"
      ]
     },
     "execution_count": 28,
     "metadata": {},
     "output_type": "execute_result"
    }
   ],
   "source": [
    "# Removing the outliers from df2 dataset\n",
    "df2 = df2.drop([df2_outlier.index[0] , df2_outlier.index[1]])\n",
    "df2.shape"
   ]
  },
  {
   "cell_type": "code",
   "execution_count": 29,
   "metadata": {},
   "outputs": [
    {
     "data": {
      "image/png": "[encoded data removed]",
      "text/plain": [
       "<Figure size 1300x500 with 1 Axes>"
      ]
     },
     "metadata": {},
     "output_type": "display_data"
    }
   ],
   "source": [
    "# Plotting watched percentage after handling outliers\n",
    "plt.figure(figsize=(13,5))\n",
    "plt.suptitle(\"Distribution of Watched_Percentage\", fontsize= 25, fontweight = 5, color = 'Black')\n",
    "ticks = np.arange(0,200,20)\n",
    "label = [\"{}\".format(i) for i in ticks]\n",
    "plt.yticks(ticks,label)\n",
    "sns.boxplot(y=df2.watched_percentage)\n",
    "\n",
    "plt.show()"
   ]
  },
  {
   "cell_type": "code",
   "execution_count": 30,
   "metadata": {},
   "outputs": [
    {
     "data": {
      "text/html": [
       "<div>\n",
       "<style scoped>\n",
       "    .dataframe tbody tr th:only-of-type {\n",
       "        vertical-align: middle;\n",
       "    }\n",
       "\n",
       "    .dataframe tbody tr th {\n",
       "        vertical-align: top;\n",
       "    }\n",
       "\n",
       "    .dataframe thead th {\n",
       "        text-align: right;\n",
       "    }\n",
       "</style>\n",
       "<table border=\"1\" class=\"dataframe\">\n",
       "  <thead>\n",
       "    <tr style=\"text-align: right;\">\n",
       "      <th></th>\n",
       "      <th>watched_percentage</th>\n",
       "    </tr>\n",
       "  </thead>\n",
       "  <tbody>\n",
       "    <tr>\n",
       "      <th>count</th>\n",
       "      <td>192.000000</td>\n",
       "    </tr>\n",
       "    <tr>\n",
       "      <th>mean</th>\n",
       "      <td>53.354167</td>\n",
       "    </tr>\n",
       "    <tr>\n",
       "      <th>std</th>\n",
       "      <td>25.829477</td>\n",
       "    </tr>\n",
       "    <tr>\n",
       "      <th>min</th>\n",
       "      <td>2.000000</td>\n",
       "    </tr>\n",
       "    <tr>\n",
       "      <th>25%</th>\n",
       "      <td>34.250000</td>\n",
       "    </tr>\n",
       "    <tr>\n",
       "      <th>50%</th>\n",
       "      <td>55.000000</td>\n",
       "    </tr>\n",
       "    <tr>\n",
       "      <th>75%</th>\n",
       "      <td>75.000000</td>\n",
       "    </tr>\n",
       "    <tr>\n",
       "      <th>max</th>\n",
       "      <td>100.000000</td>\n",
       "    </tr>\n",
       "  </tbody>\n",
       "</table>\n",
       "</div>"
      ],
      "text/plain": [
       "       watched_percentage\n",
       "count          192.000000\n",
       "mean            53.354167\n",
       "std             25.829477\n",
       "min              2.000000\n",
       "25%             34.250000\n",
       "50%             55.000000\n",
       "75%             75.000000\n",
       "max            100.000000"
      ]
     },
     "execution_count": 30,
     "metadata": {},
     "output_type": "execute_result"
    }
   ],
   "source": [
    "df2.describe()"
   ]
  },
  {
   "cell_type": "code",
   "execution_count": 31,
   "metadata": {},
   "outputs": [],
   "source": [
    "# Removing the outliers identified in df2 from df1\n",
    "df1 = df1.drop([df2_outlier.index[0], df2_outlier.index[1]])"
   ]
  },
  {
   "cell_type": "markdown",
   "metadata": {},
   "source": [
    "dataframe df3"
   ]
  },
  {
   "cell_type": "code",
   "execution_count": 32,
   "metadata": {},
   "outputs": [
    {
     "name": "stdout",
     "output_type": "stream",
     "text": [
      "<class 'pandas.core.frame.DataFrame'>\n",
      "Int64Index: 1754 entries, 0 to 2191\n",
      "Data columns (total 6 columns):\n",
      " #   Column          Non-Null Count  Dtype \n",
      "---  ------          --------------  ----- \n",
      " 0   jnr_sm_id       1754 non-null   object\n",
      " 1   lead_id         1754 non-null   object\n",
      " 2   lead_stage      1754 non-null   object\n",
      " 3   call_done_date  1754 non-null   object\n",
      " 4   call_status     1754 non-null   object\n",
      " 5   call_reason     1754 non-null   object\n",
      "dtypes: object(6)\n",
      "memory usage: 95.9+ KB\n"
     ]
    }
   ],
   "source": [
    "df3.info()"
   ]
  },
  {
   "cell_type": "code",
   "execution_count": 33,
   "metadata": {},
   "outputs": [
    {
     "data": {
      "text/html": [
       "<div>\n",
       "<style scoped>\n",
       "    .dataframe tbody tr th:only-of-type {\n",
       "        vertical-align: middle;\n",
       "    }\n",
       "\n",
       "    .dataframe tbody tr th {\n",
       "        vertical-align: top;\n",
       "    }\n",
       "\n",
       "    .dataframe thead th {\n",
       "        text-align: right;\n",
       "    }\n",
       "</style>\n",
       "<table border=\"1\" class=\"dataframe\">\n",
       "  <thead>\n",
       "    <tr style=\"text-align: right;\">\n",
       "      <th></th>\n",
       "      <th>jnr_sm_id</th>\n",
       "      <th>lead_id</th>\n",
       "      <th>lead_stage</th>\n",
       "    </tr>\n",
       "  </thead>\n",
       "  <tbody>\n",
       "    <tr>\n",
       "      <th>0</th>\n",
       "      <td>JNR1001MG</td>\n",
       "      <td>USR1001</td>\n",
       "      <td>lead</td>\n",
       "    </tr>\n",
       "    <tr>\n",
       "      <th>1</th>\n",
       "      <td>JNR1001MG</td>\n",
       "      <td>USR1001</td>\n",
       "      <td>lead</td>\n",
       "    </tr>\n",
       "    <tr>\n",
       "      <th>2</th>\n",
       "      <td>JNR1001MG</td>\n",
       "      <td>USR1002</td>\n",
       "      <td>lead</td>\n",
       "    </tr>\n",
       "    <tr>\n",
       "      <th>3</th>\n",
       "      <td>JNR1001MG</td>\n",
       "      <td>USR1002</td>\n",
       "      <td>lead</td>\n",
       "    </tr>\n",
       "    <tr>\n",
       "      <th>4</th>\n",
       "      <td>JNR1001MG</td>\n",
       "      <td>USR1002</td>\n",
       "      <td>awareness</td>\n",
       "    </tr>\n",
       "    <tr>\n",
       "      <th>...</th>\n",
       "      <td>...</td>\n",
       "      <td>...</td>\n",
       "      <td>...</td>\n",
       "    </tr>\n",
       "    <tr>\n",
       "      <th>2187</th>\n",
       "      <td>JNR1001MG</td>\n",
       "      <td>USR1356</td>\n",
       "      <td>lead</td>\n",
       "    </tr>\n",
       "    <tr>\n",
       "      <th>2188</th>\n",
       "      <td>JNR1001MG</td>\n",
       "      <td>USR1357</td>\n",
       "      <td>lead</td>\n",
       "    </tr>\n",
       "    <tr>\n",
       "      <th>2189</th>\n",
       "      <td>JNR1001MG</td>\n",
       "      <td>USR1358</td>\n",
       "      <td>lead</td>\n",
       "    </tr>\n",
       "    <tr>\n",
       "      <th>2190</th>\n",
       "      <td>JNR1001MG</td>\n",
       "      <td>USR1359</td>\n",
       "      <td>lead</td>\n",
       "    </tr>\n",
       "    <tr>\n",
       "      <th>2191</th>\n",
       "      <td>JNR1001MG</td>\n",
       "      <td>USR1360</td>\n",
       "      <td>lead</td>\n",
       "    </tr>\n",
       "  </tbody>\n",
       "</table>\n",
       "<p>1754 rows × 3 columns</p>\n",
       "</div>"
      ],
      "text/plain": [
       "      jnr_sm_id  lead_id lead_stage\n",
       "0     JNR1001MG  USR1001       lead\n",
       "1     JNR1001MG  USR1001       lead\n",
       "2     JNR1001MG  USR1002       lead\n",
       "3     JNR1001MG  USR1002       lead\n",
       "4     JNR1001MG  USR1002  awareness\n",
       "...         ...      ...        ...\n",
       "2187  JNR1001MG  USR1356       lead\n",
       "2188  JNR1001MG  USR1357       lead\n",
       "2189  JNR1001MG  USR1358       lead\n",
       "2190  JNR1001MG  USR1359       lead\n",
       "2191  JNR1001MG  USR1360       lead\n",
       "\n",
       "[1754 rows x 3 columns]"
      ]
     },
     "execution_count": 33,
     "metadata": {},
     "output_type": "execute_result"
    }
   ],
   "source": [
    "# drop column call_done_date , call_status and call_reason are not necessary for analysis\n",
    "df3 = df3.drop(['call_done_date','call_status','call_reason'], axis=1)\n",
    "df3"
   ]
  },
  {
   "cell_type": "code",
   "execution_count": 34,
   "metadata": {},
   "outputs": [
    {
     "name": "stdout",
     "output_type": "stream",
     "text": [
      "1023\n"
     ]
    }
   ],
   "source": [
    "#identify dublicate and remove \n",
    "print(df3.duplicated().sum())"
   ]
  },
  {
   "cell_type": "code",
   "execution_count": 35,
   "metadata": {},
   "outputs": [
    {
     "name": "stdout",
     "output_type": "stream",
     "text": [
      "0\n"
     ]
    }
   ],
   "source": [
    "df3.drop_duplicates(inplace=True)\n",
    "print(df3.duplicated().sum())"
   ]
  },
  {
   "cell_type": "code",
   "execution_count": 36,
   "metadata": {},
   "outputs": [],
   "source": [
    "# Group and display stages for each lead_id in one record\n",
    "df3 = df3.groupby(['lead_id'], as_index = False).agg({'lead_stage': '-'.join})"
   ]
  },
  {
   "cell_type": "code",
   "execution_count": 37,
   "metadata": {},
   "outputs": [],
   "source": [
    "# Renaming the stages according the the last stage each lead was in\n",
    "df3['lead_stage'].replace({'lead':'lead stage','lead-awareness': 'Awareness Stage',\n",
    "'lead-awareness-consideration':'Consideration Stage','lead-awareness-consideration-conversion':'Conversion Stage' },\n",
    "inplace=True)"
   ]
  },
  {
   "cell_type": "code",
   "execution_count": 38,
   "metadata": {},
   "outputs": [
    {
     "data": {
      "text/plain": [
       "lead stage             164\n",
       "Awareness Stage         79\n",
       "Conversion Stage        64\n",
       "Consideration Stage     51\n",
       "Name: lead_stage, dtype: int64"
      ]
     },
     "execution_count": 38,
     "metadata": {},
     "output_type": "execute_result"
    }
   ],
   "source": [
    "#Verifying count of leads in each stage\n",
    "df3.lead_stage.value_counts()"
   ]
  },
  {
   "cell_type": "markdown",
   "metadata": {},
   "source": [
    "DATAFRAME DF4"
   ]
  },
  {
   "cell_type": "code",
   "execution_count": 39,
   "metadata": {},
   "outputs": [
    {
     "name": "stdout",
     "output_type": "stream",
     "text": [
      "<class 'pandas.core.frame.DataFrame'>\n",
      "RangeIndex: 294 entries, 0 to 293\n",
      "Data columns (total 4 columns):\n",
      " #   Column                                  Non-Null Count  Dtype \n",
      "---  ------                                  --------------  ----- \n",
      " 0   lead_id                                 294 non-null    object\n",
      " 1   reasons_for_not_interested_in_demo      164 non-null    object\n",
      " 2   reasons_for_not_interested_to_consider  79 non-null     object\n",
      " 3   reasons_for_not_interested_to_convert   51 non-null     object\n",
      "dtypes: object(4)\n",
      "memory usage: 9.3+ KB\n"
     ]
    }
   ],
   "source": [
    "df4.info()"
   ]
  },
  {
   "cell_type": "markdown",
   "metadata": {},
   "source": [
    "* Observe that the leads_reasons_for_no_interest dataset has null values in its columns.\n",
    "* Up on observation, we notice that these coumns in the dataset are all speaking of the reason why the lead did not show interest at any given stage.\n",
    "* In this scenario, it is advisable to combine the values of these three columns into a single column named 'reason_for_not_interested' and carry out further analysis."
   ]
  },
  {
   "cell_type": "code",
   "execution_count": 40,
   "metadata": {},
   "outputs": [],
   "source": [
    "# Replacing Null values with an empty string\n",
    "df4['reasons_for_not_interested_in_demo'] = df4['reasons_for_not_interested_in_demo'].fillna('')\n",
    "df4['reasons_for_not_interested_to_consider'] = df4['reasons_for_not_interested_to_consider'].fillna('')\n",
    "df4['reasons_for_not_interested_to_convert'] = df4['reasons_for_not_interested_to_convert'].fillna('')"
   ]
  },
  {
   "cell_type": "code",
   "execution_count": 41,
   "metadata": {},
   "outputs": [
    {
     "name": "stdout",
     "output_type": "stream",
     "text": [
      "<class 'pandas.core.frame.DataFrame'>\n",
      "RangeIndex: 294 entries, 0 to 293\n",
      "Data columns (total 4 columns):\n",
      " #   Column                                  Non-Null Count  Dtype \n",
      "---  ------                                  --------------  ----- \n",
      " 0   lead_id                                 294 non-null    object\n",
      " 1   reasons_for_not_interested_in_demo      294 non-null    object\n",
      " 2   reasons_for_not_interested_to_consider  294 non-null    object\n",
      " 3   reasons_for_not_interested_to_convert   294 non-null    object\n",
      "dtypes: object(4)\n",
      "memory usage: 9.3+ KB\n"
     ]
    }
   ],
   "source": [
    "df4.info()"
   ]
  },
  {
   "cell_type": "code",
   "execution_count": 42,
   "metadata": {},
   "outputs": [],
   "source": [
    "# Combine all the values in the existing columns and store them in the new column.\n",
    "df4['Reason_for_not_interested'] = df4['reasons_for_not_interested_in_demo'] + df4['reasons_for_not_interested_to_consider'] + df4['reasons_for_not_interested_to_convert']"
   ]
  },
  {
   "cell_type": "code",
   "execution_count": 43,
   "metadata": {},
   "outputs": [],
   "source": [
    "# Drop the redundant columns that are no longer required for analysis\n",
    "df4 = df4.drop(['reasons_for_not_interested_in_demo','reasons_for_not_interested_to_consider', 'reasons_for_not_interested_to_convert'], axis=1)"
   ]
  },
  {
   "cell_type": "code",
   "execution_count": 44,
   "metadata": {},
   "outputs": [
    {
     "name": "stdout",
     "output_type": "stream",
     "text": [
      "<class 'pandas.core.frame.DataFrame'>\n",
      "RangeIndex: 294 entries, 0 to 293\n",
      "Data columns (total 2 columns):\n",
      " #   Column                     Non-Null Count  Dtype \n",
      "---  ------                     --------------  ----- \n",
      " 0   lead_id                    294 non-null    object\n",
      " 1   Reason_for_not_interested  294 non-null    object\n",
      "dtypes: object(2)\n",
      "memory usage: 4.7+ KB\n"
     ]
    }
   ],
   "source": [
    "df4.info()"
   ]
  },
  {
   "cell_type": "code",
   "execution_count": 45,
   "metadata": {},
   "outputs": [
    {
     "data": {
      "text/plain": [
       "Can't afford                        95\n",
       "Wants offline classes               91\n",
       "Student not interested in domain    52\n",
       "No time for student                 38\n",
       "Will join in final year             14\n",
       "Cannot afford                        4\n",
       "Name: Reason_for_not_interested, dtype: int64"
      ]
     },
     "execution_count": 45,
     "metadata": {},
     "output_type": "execute_result"
    }
   ],
   "source": [
    "df4.Reason_for_not_interested.value_counts()"
   ]
  },
  {
   "cell_type": "markdown",
   "metadata": {},
   "source": [
    "We notice that there are two values in 'Reason_for_not_interested' column that mean the same.\n",
    "One is 'Can't afford' and another is 'Cannot afford'\n",
    "We shall rename one of these values for more accurate results."
   ]
  },
  {
   "cell_type": "code",
   "execution_count": 46,
   "metadata": {},
   "outputs": [],
   "source": [
    "df4['Reason_for_not_interested'].replace({\"Can't afford\":'Cannot afford'}, inplace=True)\n"
   ]
  },
  {
   "cell_type": "code",
   "execution_count": 47,
   "metadata": {},
   "outputs": [
    {
     "data": {
      "text/plain": [
       "Cannot afford                       99\n",
       "Wants offline classes               91\n",
       "Student not interested in domain    52\n",
       "No time for student                 38\n",
       "Will join in final year             14\n",
       "Name: Reason_for_not_interested, dtype: int64"
      ]
     },
     "execution_count": 47,
     "metadata": {},
     "output_type": "execute_result"
    }
   ],
   "source": [
    "df4.Reason_for_not_interested.value_counts()"
   ]
  },
  {
   "cell_type": "markdown",
   "metadata": {},
   "source": [
    "DATAFRAME DF5"
   ]
  },
  {
   "cell_type": "code",
   "execution_count": 48,
   "metadata": {},
   "outputs": [
    {
     "name": "stdout",
     "output_type": "stream",
     "text": [
      "<class 'pandas.core.frame.DataFrame'>\n",
      "RangeIndex: 360 entries, 0 to 359\n",
      "Data columns (total 5 columns):\n",
      " #   Column         Non-Null Count  Dtype \n",
      "---  ------         --------------  ----- \n",
      " 0   snr_sm_id      360 non-null    object\n",
      " 1   jnr_sm_id      360 non-null    object\n",
      " 2   assigned_date  360 non-null    object\n",
      " 3   cycle          360 non-null    int64 \n",
      " 4   lead_id        360 non-null    object\n",
      "dtypes: int64(1), object(4)\n",
      "memory usage: 14.2+ KB\n"
     ]
    }
   ],
   "source": [
    "df5.info()"
   ]
  },
  {
   "cell_type": "code",
   "execution_count": 49,
   "metadata": {},
   "outputs": [],
   "source": [
    "df5 = df5.drop(['assigned_date'], axis=1)"
   ]
  },
  {
   "cell_type": "code",
   "execution_count": 50,
   "metadata": {},
   "outputs": [
    {
     "data": {
      "text/plain": [
       "(360, 4)"
      ]
     },
     "execution_count": 50,
     "metadata": {},
     "output_type": "execute_result"
    }
   ],
   "source": [
    "df5.shape"
   ]
  },
  {
   "cell_type": "code",
   "execution_count": 51,
   "metadata": {},
   "outputs": [],
   "source": [
    "# Removing the outliers identified in df1 and df2 from df5\n",
    "df5 = df5.drop([df1_outlier.index[0] , df1_outlier.index[1], df2_outlier.index[0] , df2_outlier.index[1]])"
   ]
  },
  {
   "cell_type": "markdown",
   "metadata": {},
   "source": [
    "##VISUALIZATION"
   ]
  },
  {
   "cell_type": "code",
   "execution_count": 52,
   "metadata": {},
   "outputs": [
    {
     "data": {
      "text/plain": [
       "array(['social_media', 'user_referrals', 'website', 'SEO',\n",
       "       'email_marketing'], dtype=object)"
      ]
     },
     "execution_count": 52,
     "metadata": {},
     "output_type": "execute_result"
    }
   ],
   "source": [
    "\n",
    "df1.lead_gen_source.unique()"
   ]
  },
  {
   "cell_type": "code",
   "execution_count": 53,
   "metadata": {},
   "outputs": [
    {
     "data": {
      "text/plain": [
       "Text(0.5, 1.0, 'Lead Source')"
      ]
     },
     "execution_count": 53,
     "metadata": {},
     "output_type": "execute_result"
    },
    {
     "data": {
      "image/png": "[encoded data removed]",
      "text/plain": [
       "<Figure size 640x480 with 1 Axes>"
      ]
     },
     "metadata": {},
     "output_type": "display_data"
    }
   ],
   "source": [
    "ax = df1.groupby('lead_gen_source').size().plot(kind='pie', autopct='%.2f%%',  y='lead_id', ylabel='', explode = [0,0,0.1,0,0], shadow = \"True\")\n",
    "ax.set_title(\"Lead Source\") "
   ]
  },
  {
   "cell_type": "markdown",
   "metadata": {},
   "source": [
    "Preliminary observation tells that approx. 24% of the leads came to know about the firm through social media. SEO and email marketing form the next important source, each contributing about 20% of the leads."
   ]
  },
  {
   "cell_type": "code",
   "execution_count": 54,
   "metadata": {},
   "outputs": [
    {
     "data": {
      "text/plain": [
       "array(['Telugu', 'Hindi', 'English'], dtype=object)"
      ]
     },
     "execution_count": 54,
     "metadata": {},
     "output_type": "execute_result"
    }
   ],
   "source": [
    "df2.language.unique()"
   ]
  },
  {
   "cell_type": "code",
   "execution_count": 55,
   "metadata": {},
   "outputs": [
    {
     "data": {
      "text/plain": [
       "Text(0.5, 1.0, 'demo language')"
      ]
     },
     "execution_count": 55,
     "metadata": {},
     "output_type": "execute_result"
    },
    {
     "data": {
      "image/png": "[encoded data removed]",
      "text/plain": [
       "<Figure size 640x480 with 1 Axes>"
      ]
     },
     "metadata": {},
     "output_type": "display_data"
    }
   ],
   "source": [
    "ax = df2.groupby('language').size().plot(kind='pie',autopct= '%.2f%%', y = 'lead_id', ylabel = '', shadow = 'True')\n",
    "ax.set_title('demo language')"
   ]
  },
  {
   "cell_type": "markdown",
   "metadata": {},
   "source": [
    "Almost 60% of the leads watched demo in English, 30% in Telugu, and just about 10% in Hindi."
   ]
  },
  {
   "cell_type": "code",
   "execution_count": 56,
   "metadata": {},
   "outputs": [
    {
     "data": {
      "text/html": [
       "<div>\n",
       "<style scoped>\n",
       "    .dataframe tbody tr th:only-of-type {\n",
       "        vertical-align: middle;\n",
       "    }\n",
       "\n",
       "    .dataframe tbody tr th {\n",
       "        vertical-align: top;\n",
       "    }\n",
       "\n",
       "    .dataframe thead th {\n",
       "        text-align: right;\n",
       "    }\n",
       "</style>\n",
       "<table border=\"1\" class=\"dataframe\">\n",
       "  <thead>\n",
       "    <tr style=\"text-align: right;\">\n",
       "      <th></th>\n",
       "      <th>lead_id</th>\n",
       "      <th>age</th>\n",
       "      <th>gender</th>\n",
       "      <th>current_city</th>\n",
       "      <th>current_education</th>\n",
       "      <th>parent_occupation</th>\n",
       "      <th>lead_gen_source</th>\n",
       "    </tr>\n",
       "  </thead>\n",
       "  <tbody>\n",
       "    <tr>\n",
       "      <th>0</th>\n",
       "      <td>USR1001</td>\n",
       "      <td>16</td>\n",
       "      <td>FEMALE</td>\n",
       "      <td>Hyderabad</td>\n",
       "      <td>Intermediate</td>\n",
       "      <td>Private Employee</td>\n",
       "      <td>social_media</td>\n",
       "    </tr>\n",
       "    <tr>\n",
       "      <th>1</th>\n",
       "      <td>USR1002</td>\n",
       "      <td>20</td>\n",
       "      <td>MALE</td>\n",
       "      <td>Bengaluru</td>\n",
       "      <td>B.Tech</td>\n",
       "      <td>Business</td>\n",
       "      <td>user_referrals</td>\n",
       "    </tr>\n",
       "    <tr>\n",
       "      <th>2</th>\n",
       "      <td>USR1003</td>\n",
       "      <td>20</td>\n",
       "      <td>FEMALE</td>\n",
       "      <td>Visakhapatnam</td>\n",
       "      <td>B.Tech</td>\n",
       "      <td>Lawyer</td>\n",
       "      <td>user_referrals</td>\n",
       "    </tr>\n",
       "    <tr>\n",
       "      <th>3</th>\n",
       "      <td>USR1004</td>\n",
       "      <td>16</td>\n",
       "      <td>MALE</td>\n",
       "      <td>Mumbai</td>\n",
       "      <td>Intermediate</td>\n",
       "      <td>IT Employee</td>\n",
       "      <td>user_referrals</td>\n",
       "    </tr>\n",
       "    <tr>\n",
       "      <th>4</th>\n",
       "      <td>USR1005</td>\n",
       "      <td>16</td>\n",
       "      <td>MALE</td>\n",
       "      <td>Chennai</td>\n",
       "      <td>Intermediate</td>\n",
       "      <td>Government Employee</td>\n",
       "      <td>user_referrals</td>\n",
       "    </tr>\n",
       "  </tbody>\n",
       "</table>\n",
       "</div>"
      ],
      "text/plain": [
       "   lead_id  age  gender   current_city current_education    parent_occupation  \\\n",
       "0  USR1001   16  FEMALE      Hyderabad      Intermediate     Private Employee   \n",
       "1  USR1002   20    MALE      Bengaluru            B.Tech             Business   \n",
       "2  USR1003   20  FEMALE  Visakhapatnam            B.Tech               Lawyer   \n",
       "3  USR1004   16    MALE         Mumbai      Intermediate          IT Employee   \n",
       "4  USR1005   16    MALE        Chennai      Intermediate  Government Employee   \n",
       "\n",
       "  lead_gen_source  \n",
       "0    social_media  \n",
       "1  user_referrals  \n",
       "2  user_referrals  \n",
       "3  user_referrals  \n",
       "4  user_referrals  "
      ]
     },
     "execution_count": 56,
     "metadata": {},
     "output_type": "execute_result"
    }
   ],
   "source": [
    "df1.head()"
   ]
  },
  {
   "cell_type": "code",
   "execution_count": 57,
   "metadata": {},
   "outputs": [
    {
     "data": {
      "text/plain": [
       "Text(0, 0.5, 'lead count')"
      ]
     },
     "execution_count": 57,
     "metadata": {},
     "output_type": "execute_result"
    },
    {
     "data": {
      "image/png": "[encoded data removed]",
      "text/plain": [
       "<Figure size 640x480 with 1 Axes>"
      ]
     },
     "metadata": {},
     "output_type": "display_data"
    }
   ],
   "source": [
    "ax = df1.groupby('current_city').size().plot(kind='bar')\n",
    "plt.title('lead in diffrent city')\n",
    "plt.xticks(rotation = 30 )\n",
    "plt.xlabel('current city')\n",
    "plt.ylabel('lead count')"
   ]
  },
  {
   "cell_type": "code",
   "execution_count": 58,
   "metadata": {},
   "outputs": [
    {
     "data": {
      "text/html": [
       "<div>\n",
       "<style scoped>\n",
       "    .dataframe tbody tr th:only-of-type {\n",
       "        vertical-align: middle;\n",
       "    }\n",
       "\n",
       "    .dataframe tbody tr th {\n",
       "        vertical-align: top;\n",
       "    }\n",
       "\n",
       "    .dataframe thead th {\n",
       "        text-align: right;\n",
       "    }\n",
       "</style>\n",
       "<table border=\"1\" class=\"dataframe\">\n",
       "  <thead>\n",
       "    <tr style=\"text-align: right;\">\n",
       "      <th></th>\n",
       "      <th>lead_id</th>\n",
       "      <th>demo_watched_date</th>\n",
       "      <th>language</th>\n",
       "      <th>watched_percentage</th>\n",
       "    </tr>\n",
       "  </thead>\n",
       "  <tbody>\n",
       "    <tr>\n",
       "      <th>0</th>\n",
       "      <td>USR1002</td>\n",
       "      <td>1/4/2022</td>\n",
       "      <td>Telugu</td>\n",
       "      <td>42</td>\n",
       "    </tr>\n",
       "    <tr>\n",
       "      <th>1</th>\n",
       "      <td>USR1003</td>\n",
       "      <td>1/7/2022</td>\n",
       "      <td>Telugu</td>\n",
       "      <td>81</td>\n",
       "    </tr>\n",
       "    <tr>\n",
       "      <th>2</th>\n",
       "      <td>USR1004</td>\n",
       "      <td>1/2/2022</td>\n",
       "      <td>Telugu</td>\n",
       "      <td>35</td>\n",
       "    </tr>\n",
       "    <tr>\n",
       "      <th>3</th>\n",
       "      <td>USR1005</td>\n",
       "      <td>1/3/2022</td>\n",
       "      <td>Hindi</td>\n",
       "      <td>38</td>\n",
       "    </tr>\n",
       "    <tr>\n",
       "      <th>4</th>\n",
       "      <td>USR1006</td>\n",
       "      <td>1/12/2022</td>\n",
       "      <td>Hindi</td>\n",
       "      <td>54</td>\n",
       "    </tr>\n",
       "  </tbody>\n",
       "</table>\n",
       "</div>"
      ],
      "text/plain": [
       "   lead_id demo_watched_date language  watched_percentage\n",
       "0  USR1002          1/4/2022   Telugu                  42\n",
       "1  USR1003          1/7/2022   Telugu                  81\n",
       "2  USR1004          1/2/2022   Telugu                  35\n",
       "3  USR1005          1/3/2022    Hindi                  38\n",
       "4  USR1006         1/12/2022    Hindi                  54"
      ]
     },
     "execution_count": 58,
     "metadata": {},
     "output_type": "execute_result"
    }
   ],
   "source": [
    "df2.head()"
   ]
  },
  {
   "cell_type": "code",
   "execution_count": 59,
   "metadata": {},
   "outputs": [
    {
     "data": {
      "text/html": [
       "<div>\n",
       "<style scoped>\n",
       "    .dataframe tbody tr th:only-of-type {\n",
       "        vertical-align: middle;\n",
       "    }\n",
       "\n",
       "    .dataframe tbody tr th {\n",
       "        vertical-align: top;\n",
       "    }\n",
       "\n",
       "    .dataframe thead th {\n",
       "        text-align: right;\n",
       "    }\n",
       "</style>\n",
       "<table border=\"1\" class=\"dataframe\">\n",
       "  <thead>\n",
       "    <tr style=\"text-align: right;\">\n",
       "      <th></th>\n",
       "      <th>lead_id</th>\n",
       "      <th>demo_watched_date</th>\n",
       "      <th>language</th>\n",
       "      <th>watched_percentage</th>\n",
       "      <th>lead_stage</th>\n",
       "    </tr>\n",
       "  </thead>\n",
       "  <tbody>\n",
       "    <tr>\n",
       "      <th>0</th>\n",
       "      <td>USR1002</td>\n",
       "      <td>1/4/2022</td>\n",
       "      <td>Telugu</td>\n",
       "      <td>42</td>\n",
       "      <td>Conversion Stage</td>\n",
       "    </tr>\n",
       "    <tr>\n",
       "      <th>1</th>\n",
       "      <td>USR1003</td>\n",
       "      <td>1/7/2022</td>\n",
       "      <td>Telugu</td>\n",
       "      <td>81</td>\n",
       "      <td>Awareness Stage</td>\n",
       "    </tr>\n",
       "    <tr>\n",
       "      <th>2</th>\n",
       "      <td>USR1004</td>\n",
       "      <td>1/2/2022</td>\n",
       "      <td>Telugu</td>\n",
       "      <td>35</td>\n",
       "      <td>Awareness Stage</td>\n",
       "    </tr>\n",
       "    <tr>\n",
       "      <th>3</th>\n",
       "      <td>USR1005</td>\n",
       "      <td>1/3/2022</td>\n",
       "      <td>Hindi</td>\n",
       "      <td>38</td>\n",
       "      <td>Awareness Stage</td>\n",
       "    </tr>\n",
       "    <tr>\n",
       "      <th>4</th>\n",
       "      <td>USR1006</td>\n",
       "      <td>1/12/2022</td>\n",
       "      <td>Hindi</td>\n",
       "      <td>54</td>\n",
       "      <td>Awareness Stage</td>\n",
       "    </tr>\n",
       "  </tbody>\n",
       "</table>\n",
       "</div>"
      ],
      "text/plain": [
       "   lead_id demo_watched_date language  watched_percentage        lead_stage\n",
       "0  USR1002          1/4/2022   Telugu                  42  Conversion Stage\n",
       "1  USR1003          1/7/2022   Telugu                  81   Awareness Stage\n",
       "2  USR1004          1/2/2022   Telugu                  35   Awareness Stage\n",
       "3  USR1005          1/3/2022    Hindi                  38   Awareness Stage\n",
       "4  USR1006         1/12/2022    Hindi                  54   Awareness Stage"
      ]
     },
     "execution_count": 59,
     "metadata": {},
     "output_type": "execute_result"
    }
   ],
   "source": [
    "L1= pd.merge(df2,df3)\n",
    "L1.head()"
   ]
  },
  {
   "cell_type": "code",
   "execution_count": 60,
   "metadata": {},
   "outputs": [
    {
     "data": {
      "text/plain": [
       "<AxesSubplot:xlabel='lead_stage', ylabel='watched_percentage'>"
      ]
     },
     "execution_count": 60,
     "metadata": {},
     "output_type": "execute_result"
    },
    {
     "data": {
      "image/png": "[encoded data removed]",
      "text/plain": [
       "<Figure size 640x480 with 1 Axes>"
      ]
     },
     "metadata": {},
     "output_type": "display_data"
    }
   ],
   "source": [
    "L1.plot.scatter(x = 'lead_stage', y = 'watched_percentage', s=10, c='blue')"
   ]
  },
  {
   "cell_type": "markdown",
   "metadata": {},
   "source": [
    "Leads having watch percentage in the range of (mean [+/-] std) showed a higher involvement at all stages, more importantly at \"consideration\" and \"conversion\" stage."
   ]
  },
  {
   "cell_type": "code",
   "execution_count": 63,
   "metadata": {},
   "outputs": [
    {
     "data": {
      "text/plain": [
       "Text(0.5, 1.0, 'Distribution of Reasons for not interested ')"
      ]
     },
     "execution_count": 63,
     "metadata": {},
     "output_type": "execute_result"
    },
    {
     "data": {
      "image/png": "[encoded data removed]",
      "text/plain": [
       "<Figure size 640x480 with 1 Axes>"
      ]
     },
     "metadata": {},
     "output_type": "display_data"
    }
   ],
   "source": [
    "# plot a pie chart\n",
    "ax = df4.groupby('Reason_for_not_interested').size().plot(kind='pie', autopct='%.2f',  y='lead_id', ylabel='' , shadow = 'True')\n",
    "ax.set_title(\"Distribution of Reasons for not interested \")"
   ]
  },
  {
   "cell_type": "markdown",
   "metadata": {},
   "source": [
    "At first glance, the most common reason for leads dropping out at different stages seem to be the affordability of the course. The other crucial reason to look out for is the preference for offline classes."
   ]
  },
  {
   "cell_type": "code",
   "execution_count": null,
   "metadata": {},
   "outputs": [],
   "source": []
  }
 ],
 "metadata": {
  "kernelspec": {
   "display_name": "Python 3.10.5 64-bit",
   "language": "python",
   "name": "python3"
  },
  "language_info": {
   "codemirror_mode": {
    "name": "ipython",
    "version": 3
   },
   "file_extension": ".py",
   "mimetype": "text/x-python",
   "name": "python",
   "nbconvert_exporter": "python",
   "pygments_lexer": "ipython3",
   "version": "3.10.5"
  },
  "orig_nbformat": 4,
  "vscode": {
   "interpreter": {
    "hash": "8c3d4d9970fc5c09c50d9318a9c7fbf4d0159e4b28833276f5678ee22bded273"
   }
  }
 },
 "nbformat": 4,
 "nbformat_minor": 2
}
